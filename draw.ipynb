{
 "cells": [
  {
   "cell_type": "code",
   "execution_count": 172,
   "id": "compound-local",
   "metadata": {},
   "outputs": [],
   "source": [
    "from pathlib import Path\n",
    "import numpy as np\n",
    "import glob\n",
    "from PIL import Image\n",
    "from collections import defaultdict\n",
    "import json\n",
    "from utils import NestedDefaultDict, write_dict_to_json\n",
    "from matplotlib import pyplot as plt\n",
    "import os\n",
    "from torch.utils.data import Dataset\n",
    "from random import randint\n",
    "import json\n",
    "import math\n",
    "from pathlib import Path\n",
    "from random import randint\n",
    "import glob\n",
    "import numpy as np\n",
    "import torch\n",
    "from PIL import Image\n",
    "from torch.utils.data import Dataset\n",
    "from torchvision import transforms\n",
    "import sys\n",
    "from collections import defaultdict\n",
    "import pickle\n",
    "from statistics import stdev"
   ]
  },
  {
   "cell_type": "code",
   "execution_count": 173,
   "id": "anticipated-graduate",
   "metadata": {},
   "outputs": [],
   "source": [
    "import json\n",
    "import statistics\n",
    "with open('mspd_real_synthetic.txt','r') as f:\n",
    "    mspd_real_synthetic = json.load(f)\n",
    "with open('mspd_real_sym.txt','r') as f:\n",
    "    mspd_real_sym = json.load(f)\n",
    "\n",
    "with open('mspd_real.txt','r') as f:\n",
    "    mspd_real = json.load(f)\n",
    "    \n",
    "with open('mspd_real_synthetic_sym.txt','r') as f:\n",
    "    mspd_real_synthetic_sym = json.load(f)\n",
    "\n",
    "with open('mspd_nocs.txt','r') as f:\n",
    "    mspd_nocs = json.load(f)\n",
    "\n",
    "\n",
    "real = []\n",
    "real_ = []\n",
    "for cls, value in mspd_real.items():\n",
    "    real.append(round(value['mean'],2))\n",
    "    real_.extend(value['mspd'])\n",
    "real_avg = sum(real)/len(real)\n",
    "\n",
    "\n",
    "real_sym = []\n",
    "real_sym_=[]\n",
    "for cls, value in mspd_real_sym.items():\n",
    "    real_sym.append(round(value['mean'],2))  \n",
    "    real_sym_.extend(value['mspd'])\n",
    "real_sym_avg = sum(real_sym)/len(real_sym)\n",
    "\n",
    "\n",
    "real_synthetic = []\n",
    "real_synthetic_ = []\n",
    "for cls, value in mspd_real_synthetic.items():\n",
    "    real_synthetic.append(round(value['mean'],2))\n",
    "    real_synthetic_.extend(value['mspd'])\n",
    "real_synthetic_avg = sum(real_synthetic)/len(real_synthetic)\n",
    "\n",
    "\n",
    "real_synthetic_sym = []\n",
    "real_synthetic_sym_ = []\n",
    "for cls, value in mspd_real_synthetic_sym.items():\n",
    "    real_synthetic_sym.append(round(value['mean'],2))\n",
    "    real_synthetic_sym_.extend(value['mspd'])\n",
    "real_synthetic_sym_avg = sum(real_synthetic_sym)/len(real_synthetic_sym)\n",
    "\n",
    "nocs = []\n",
    "nocs_ = []\n",
    "for cls, value in mspd_nocs.items():\n",
    "    nocs.append(round(value['mean'],2))\n",
    "    nocs_.extend(value['mspd'])\n",
    "nocs_avg = sum(nocs)/len(nocs)\n",
    "\n",
    "real[2], real[3] = real[3], real[2]\n",
    "real_synthetic[2], real_synthetic[3] = real_synthetic[3], real_synthetic[2]\n",
    "real_sym[2], real_sym[3] = real_sym[3], real_sym[2]\n",
    "real_synthetic_sym[2], real_synthetic_sym[3] = real_synthetic_sym[3], real_synthetic_sym[2]\n",
    "nocs[2], nocs[3] = nocs[3], nocs[2]\n",
    "\n",
    "cls = ['bottle', 'bowl', 'can', 'camera', 'laptop', 'cup']"
   ]
  },
  {
   "cell_type": "code",
   "execution_count": 174,
   "id": "dirty-indicator",
   "metadata": {},
   "outputs": [
    {
     "name": "stdout",
     "output_type": "stream",
     "text": [
      "[29.38, 47.05, 28.04, 38.6, 92.28, 67.31] 50.44333333333333\n",
      "[21.81, 25.49, 21.17, 38.98, 125.88, 59.23] 48.76\n",
      "[53.61, 84.29, 117.01, 71.3, 204.69, 59.45] 98.39166666666667\n",
      "[24.85, 30.45, 26.79, 61.08, 174.77, 62.47] 63.401666666666664\n",
      "[42.25, 46.34, 44.07, 43.01, 87.03, 45.39] 51.34833333333333\n"
     ]
    }
   ],
   "source": [
    "print(real,real_avg)\n",
    "print(real_sym,real_sym_avg)\n",
    "print(real_synthetic,real_synthetic_avg)\n",
    "print(real_synthetic_sym,real_synthetic_sym_avg)\n",
    "print(nocs, nocs_avg)"
   ]
  },
  {
   "cell_type": "code",
   "execution_count": 175,
   "id": "spread-hostel",
   "metadata": {},
   "outputs": [],
   "source": [
    "def clean(data,threshold=800):\n",
    "    data_arr = np.array(data)\n",
    "    return data_arr[np.where(data_arr<1000)].tolist()\n",
    "    \n",
    "    "
   ]
  },
  {
   "cell_type": "code",
   "execution_count": 176,
   "id": "stuffed-canada",
   "metadata": {},
   "outputs": [
    {
     "data": {
      "text/plain": [
       "<Figure size 432x288 with 0 Axes>"
      ]
     },
     "metadata": {},
     "output_type": "display_data"
    },
    {
     "data": {
      "image/png": "[encoded data removed]",
      "text/plain": [
       "<Figure size 360x576 with 1 Axes>"
      ]
     },
     "metadata": {
      "needs_background": "light"
     },
     "output_type": "display_data"
    }
   ],
   "source": [
    "# fig2, ax2 = plt.subplots()\n",
    "# fig2.set_size_inches(5, 8)\n",
    "\n",
    "# A = [real_avg, real_sym_avg, real_synthetic_avg, real_synthetic_sym_avg,nocs_avg ]\n",
    "# A_bar = ['real', 'real_sym', 'real_syn', 'real_syn_sym', 'nocs']\n",
    "# x_pos = np.arange(len(A_bar))\n",
    "# ax2.bar(x_pos, A, color = (0.5,0.1,0.5,0.6))\n",
    "\n",
    "# # Add title and axis names\n",
    "# ax2.set(\n",
    "#     xlabel='different settings',\n",
    "#     ylabel='MSPD error'\n",
    "# )\n",
    "# # Create names on the x axis\n",
    "# ax2.set_xticklabels(A_bar),\n",
    "#                     rotation=45, fontsize=12)\n",
    "# # plt.figure(figsize=(5,10))\n",
    "# # # Show graph\n",
    "# # plt.show()\n",
    "plt.figure()\n",
    "plt.figure(figsize=(5,8))\n",
    "A = [real_avg, real_sym_avg, real_synthetic_avg, real_synthetic_sym_avg,nocs_avg ]\n",
    "A_bar = ['real', 'real_sym', 'real_syn', 'real_syn_sym', 'NOCS']\n",
    "x_pos = np.arange(len(A_bar))\n",
    "x_pos = np.arange(len(A_bar))\n",
    " \n",
    "# Create bars and choose color\n",
    "plt.bar(x_pos, A, color = (0.5,0.1,0.5,0.6))\n",
    " \n",
    "# Add title and axis names\n",
    "plt.xlabel('different settings')\n",
    "plt.ylabel('MSPD error')\n",
    " \n",
    "# Create names on the x axis\n",
    "plt.xticks(x_pos, A_bar,rotation=45, fontsize=12)\n",
    " \n",
    "# Show graph\n",
    "# plt.show()\n",
    "plt.savefig(\"predicts/A1.png\")"
   ]
  },
  {
   "cell_type": "code",
   "execution_count": 177,
   "id": "affiliated-specification",
   "metadata": {},
   "outputs": [
    {
     "data": {
      "image/png": "[encoded data removed]",
      "text/plain": [
       "<Figure size 360x576 with 1 Axes>"
      ]
     },
     "metadata": {
      "needs_background": "light"
     },
     "output_type": "display_data"
    }
   ],
   "source": [
    "fig1, ax1 = plt.subplots()\n",
    "fig1.set_size_inches(5, 8)\n",
    "\n",
    "\n",
    "#  ['real', 'real_sym', 'real_syn', 'real_syn_sym', 'nocs' ]\n",
    "ax1.boxplot([clean(real_),clean(real_sym_),clean(real_synthetic_), clean(real_synthetic_sym_), nocs_],showfliers=False)\n",
    "ax1.set_xticklabels(A_bar,\n",
    "                    rotation=45, fontsize=12)\n",
    "ax1.margins(y=0)\n",
    "\n",
    "ax1.set(\n",
    "    xlabel='different settings',\n",
    "    ylabel='MSPD error'\n",
    ")\n",
    "ax1.xaxis.label.set_size(14)\n",
    "ax1.yaxis.label.set_size(14)\n",
    "fig1.savefig('predicts/A2.png')"
   ]
  },
  {
   "cell_type": "code",
   "execution_count": 178,
   "id": "optical-booth",
   "metadata": {},
   "outputs": [
    {
     "data": {
      "text/plain": [
       "[21.81, 25.49, 21.17, 38.98, 125.88, 59.23]"
      ]
     },
     "execution_count": 178,
     "metadata": {},
     "output_type": "execute_result"
    }
   ],
   "source": [
    "real_sym"
   ]
  },
  {
   "cell_type": "code",
   "execution_count": 179,
   "id": "classified-reaction",
   "metadata": {},
   "outputs": [
    {
     "data": {
      "image/png": "[encoded data removed]",
      "text/plain": [
       "<Figure size 576x432 with 1 Axes>"
      ]
     },
     "metadata": {
      "needs_background": "light"
     },
     "output_type": "display_data"
    }
   ],
   "source": [
    "real.append(real_avg)\n",
    "real_sym.append(real_sym_avg)\n",
    "real_synthetic_sym.append(real_synthetic_sym_avg)\n",
    "real_synthetic.append(real_synthetic_avg)\n",
    "nocs.append(nocs_avg)\n",
    "\n",
    "labels =['bottle', 'bowl', 'can', 'camera', 'laptop', 'cup', 'avg']\n",
    "\n",
    "x = np.arange(len(labels))  # the label locations\n",
    "width = 0.25  # the width of the bars\n",
    "\n",
    "fig, ax = plt.subplots()\n",
    "fig.set_size_inches(8, 6)\n",
    "rects1 = ax.bar(x , real_sym, width, label='real_sym',color='red')\n",
    "rects2 = ax.bar(x + width, real_synthetic_sym, width, label='real_sym_synthetic',color='blue')\n",
    "rects3 = ax.bar(x + 2*width, nocs, width, label='NOCS',color='black')\n",
    "# Add some text for labels, title and custom x-axis tick labels, etc.\n",
    "ax.set_ylabel('MSPD error')\n",
    "ax.set_xticks(x)\n",
    "ax.set_xticklabels(labels)\n",
    "ax.legend()\n",
    "fig.savefig('predicts/B.png')"
   ]
  },
  {
   "cell_type": "code",
   "execution_count": 180,
   "id": "fresh-lebanon",
   "metadata": {},
   "outputs": [
    {
     "data": {
      "image/png": "[encoded data removed]",
      "text/plain": [
       "<Figure size 576x432 with 1 Axes>"
      ]
     },
     "metadata": {
      "needs_background": "light"
     },
     "output_type": "display_data"
    }
   ],
   "source": [
    "\n",
    "x = np.arange(len(labels))  # the label locations\n",
    "width = 0.25  # the width of the bars\n",
    "\n",
    "fig, ax = plt.subplots()\n",
    "fig.set_size_inches(8, 6)\n",
    "rects1 = ax.bar(x , real, width, label='real',color='red')\n",
    "rects2 = ax.bar(x + width, real_sym, width, label='real_sym',color='blue')\n",
    "rects3 = ax.bar(x + 2*width, nocs, width, label='NOCS',color='black')\n",
    "# Add some text for labels, title and custom x-axis tick labels, etc.\n",
    "ax.set_ylabel('MSPD error')\n",
    "ax.set_xticks(x)\n",
    "ax.set_xticklabels(labels)\n",
    "ax.legend()\n",
    "fig.savefig('predicts/C.png')"
   ]
  },
  {
   "cell_type": "code",
   "execution_count": null,
   "id": "established-hazard",
   "metadata": {},
   "outputs": [],
   "source": []
  }
 ],
 "metadata": {
  "kernelspec": {
   "display_name": "Python 3",
   "language": "python",
   "name": "python3"
  },
  "language_info": {
   "codemirror_mode": {
    "name": "ipython",
    "version": 3
   },
   "file_extension": ".py",
   "mimetype": "text/x-python",
   "name": "python",
   "nbconvert_exporter": "python",
   "pygments_lexer": "ipython3",
   "version": "3.7.9"
  }
 },
 "nbformat": 4,
 "nbformat_minor": 5
}
